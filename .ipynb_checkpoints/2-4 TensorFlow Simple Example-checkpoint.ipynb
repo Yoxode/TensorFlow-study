{
 "cells": [
  {
   "cell_type": "code",
   "execution_count": 1,
   "metadata": {},
   "outputs": [],
   "source": [
    "import tensorflow as tf\n",
    "import numpy as np"
   ]
  },
  {
   "cell_type": "code",
   "execution_count": 3,
   "metadata": {},
   "outputs": [
    {
     "name": "stdout",
     "output_type": "stream",
     "text": [
      "[0.015378548, 0.053564727, 0.09996884]\n",
      "[9.452385e-07, 0.10318875, 0.19828434]\n",
      "[2.932476e-07, 0.10177612, 0.19904444]\n",
      "[9.0976116e-08, 0.10098928, 0.19946776]\n",
      "[2.8225026e-08, 0.100551024, 0.19970354]\n",
      "[8.756041e-09, 0.10030691, 0.19983488]\n",
      "[2.7163145e-09, 0.10017094, 0.19990803]\n",
      "[8.4271234e-10, 0.10009521, 0.19994877]\n",
      "[2.6139613e-10, 0.10005303, 0.19997147]\n",
      "[8.102427e-11, 0.10002953, 0.19998412]\n"
     ]
    }
   ],
   "source": [
    "# 使用numpy生成随机点\n",
    "x_data = np.random.rand(100)\n",
    "y_data = x_data * 0.1 + 0.2\n",
    "\n",
    "# 构造一个线性模型\n",
    "b = tf.Variable(0.)\n",
    "k = tf.Variable(0.)\n",
    "y = k * x_data + b\n",
    "\n",
    "# 二次代价函数\n",
    "loss = tf.reduce_mean(tf.square(y_data - y))\n",
    "\n",
    "# 定义一个梯度下降法来进行训练的优化器\n",
    "optimizer = tf.train.GradientDescentOptimizer(0.2)\n",
    "\n",
    "# 定义最小化代价函数\n",
    "train = optimizer.minimize(loss)\n",
    "\n",
    "init = tf.global_variables_initializer()\n",
    "\n",
    "with tf.Session() as sess:\n",
    "    sess.run(init)\n",
    "    for step in range(200):\n",
    "        sess.run(train)\n",
    "        if  step % 20 == 0:\n",
    "            print(sess.run([loss, k, b]))"
   ]
  },
  {
   "cell_type": "code",
   "execution_count": null,
   "metadata": {},
   "outputs": [],
   "source": []
  }
 ],
 "metadata": {
  "kernelspec": {
   "display_name": "Python 3",
   "language": "python",
   "name": "python3"
  },
  "language_info": {
   "codemirror_mode": {
    "name": "ipython",
    "version": 3
   },
   "file_extension": ".py",
   "mimetype": "text/x-python",
   "name": "python",
   "nbconvert_exporter": "python",
   "pygments_lexer": "ipython3",
   "version": "3.6.4"
  }
 },
 "nbformat": 4,
 "nbformat_minor": 2
}
