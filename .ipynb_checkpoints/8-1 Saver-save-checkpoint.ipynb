{
 "cells": [
  {
   "cell_type": "code",
   "execution_count": 1,
   "metadata": {},
   "outputs": [],
   "source": [
    "import tensorflow as tf\n",
    "from tensorflow.examples.tutorials.mnist import input_data"
   ]
  },
  {
   "cell_type": "code",
   "execution_count": 6,
   "metadata": {},
   "outputs": [
    {
     "name": "stdout",
     "output_type": "stream",
     "text": [
      "Extracting ./MNIST_Data/train-images-idx3-ubyte.gz\n",
      "Extracting ./MNIST_Data/train-labels-idx1-ubyte.gz\n",
      "Extracting ./MNIST_Data/t10k-images-idx3-ubyte.gz\n",
      "Extracting ./MNIST_Data/t10k-labels-idx1-ubyte.gz\n",
      "Epoch 1 - accuracy: 0.9078999757766724\n",
      "Epoch 2 - accuracy: 0.9133999943733215\n",
      "Epoch 3 - accuracy: 0.9168999791145325\n",
      "Epoch 4 - accuracy: 0.921999990940094\n",
      "Epoch 5 - accuracy: 0.9222999811172485\n",
      "Epoch 6 - accuracy: 0.9222999811172485\n",
      "Epoch 7 - accuracy: 0.9251999855041504\n",
      "Epoch 8 - accuracy: 0.9253000020980835\n",
      "Epoch 9 - accuracy: 0.9251999855041504\n",
      "Epoch 10 - accuracy: 0.9251999855041504\n"
     ]
    }
   ],
   "source": [
    "# 载入数据\n",
    "mnist = input_data.read_data_sets(\"./MNIST_Data\", one_hot=True)\n",
    "\n",
    "# 每个批次的大小\n",
    "batch_size = 100\n",
    "\n",
    "# 计算一共有多少个批次\n",
    "n_batch = mnist.train.num_examples // batch_size\n",
    "\n",
    "# 定义两个placeholder\n",
    "x = tf.placeholder(tf.float32, [None, 784])\n",
    "y = tf.placeholder(tf.float32, [None, 10])\n",
    "\n",
    "# 创建神经网络\n",
    "# W1 = tf.Variable(tf.random.truncated_normal([784, 100]))\n",
    "# b1 = tf.Variable(tf.random.truncated_normal([1, 100]))\n",
    "# l1 = tf.matmul(x, W1) + b1\n",
    "\n",
    "# W2 = tf.Variable(tf.random.truncated_normal([100, 10]))\n",
    "# b2 = tf.Variable(tf.random.truncated_normal([1, 10]))\n",
    "# W = tf.Variable(tf.zeros([784, 10]))\n",
    "# b = tf.Variable(tf.zeros([1, 10]))\n",
    "\n",
    "W = tf.Variable(tf.truncated_normal([784, 10], stddev=0.1))\n",
    "b = tf.Variable(tf.truncated_normal([1, 10], stddev=0.1))\n",
    "\n",
    "prediction = tf.nn.softmax(tf.matmul(x, W) + b)\n",
    "\n",
    "# 二次代价函数\n",
    "# loss = tf.reduce_mean(tf.square(y - prediction))\n",
    "# 交叉熵代价函数\n",
    "loss = tf.reduce_mean(tf.nn.softmax_cross_entropy_with_logits_v2(labels=y, logits=prediction))\n",
    "# 梯度下降法\n",
    "train = tf.train.GradientDescentOptimizer(0.9).minimize(loss)\n",
    "\n",
    "# 初始化变量\n",
    "init = tf.global_variables_initializer()\n",
    "\n",
    "# 预测结果\n",
    "correct_prediction = tf.equal(tf.argmax(y, 1), tf.argmax(prediction, 1))\n",
    "\n",
    "# 求准确率\n",
    "accuracy = tf.reduce_mean(tf.cast(correct_prediction, tf.float32))\n",
    "\n",
    "# 迭代次数\n",
    "epochs = 10 \n",
    "\n",
    "saver = tf.train.Saver()\n",
    "\n",
    "with tf.Session() as sess:\n",
    "    sess.run(init)\n",
    "    for epoch in range(epochs):\n",
    "        for batch in range(n_batch):\n",
    "            batch_xs, batch_ys = mnist.train.next_batch(batch_size)\n",
    "            sess.run(train, feed_dict={x: batch_xs, y: batch_ys})\n",
    "        acc = sess.run(accuracy, feed_dict={x: mnist.test.images, y: mnist.test.labels})\n",
    "        print(\"Epoch {} - accuracy: {}\".format(epoch + 1, acc))\n",
    "        \n",
    "    # 保存模型\n",
    "    saver.save(sess, './net/my_net.ckpt')"
   ]
  },
  {
   "cell_type": "code",
   "execution_count": null,
   "metadata": {},
   "outputs": [],
   "source": []
  }
 ],
 "metadata": {
  "kernelspec": {
   "display_name": "Python 3",
   "language": "python",
   "name": "python3"
  },
  "language_info": {
   "codemirror_mode": {
    "name": "ipython",
    "version": 3
   },
   "file_extension": ".py",
   "mimetype": "text/x-python",
   "name": "python",
   "nbconvert_exporter": "python",
   "pygments_lexer": "ipython3",
   "version": "3.6.4"
  }
 },
 "nbformat": 4,
 "nbformat_minor": 2
}
